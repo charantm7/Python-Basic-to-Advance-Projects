{
  "nbformat": 4,
  "nbformat_minor": 0,
  "metadata": {
    "colab": {
      "provenance": [],
      "authorship_tag": "ABX9TyOTWa4l0JdJ+ox2tz1+i2gq",
      "include_colab_link": true
    },
    "kernelspec": {
      "name": "python3",
      "display_name": "Python 3"
    },
    "language_info": {
      "name": "python"
    }
  },
  "cells": [
    {
      "cell_type": "markdown",
      "metadata": {
        "id": "view-in-github",
        "colab_type": "text"
      },
      "source": [
        "<a href=\"https://colab.research.google.com/github/charantm7/Python-Basic-to-Advance-Projects/blob/main/Python_Basics_Notes.ipynb\" target=\"_parent\"><img src=\"https://colab.research.google.com/assets/colab-badge.svg\" alt=\"Open In Colab\"/></a>"
      ]
    },
    {
      "cell_type": "markdown",
      "source": [
        "# Loops in Python\n",
        "## For loop - The for loop iterate for a fixed number of itmes for a know condition in a sequence\n",
        "\n",
        "- slicing or range (1,10) = [start, stop, step] the stop element will not be included, here (1,2,3,....,9) for range(1,10) it stops at 10 and it is not included.\n",
        "- And step is like skipping the elements in a given sequence of elements by default '1' will be included and if i include '2' in the step (1,10,2) it skips one number for ex - (1,3,5,..)."
      ],
      "metadata": {
        "id": "i_OmvcTxmUbb"
      }
    },
    {
      "cell_type": "code",
      "source": [
        "dept = ['CS','EC','IS','AI','DS','CY']\n",
        "for i in dept:\n",
        "  print(i)"
      ],
      "metadata": {
        "colab": {
          "base_uri": "https://localhost:8080/"
        },
        "collapsed": true,
        "id": "aQCP3TxsmbbV",
        "outputId": "0a0bd7c8-619c-4e33-cafb-523a8c56b8e7"
      },
      "execution_count": null,
      "outputs": [
        {
          "output_type": "stream",
          "name": "stdout",
          "text": [
            "CS\n",
            "EC\n",
            "IS\n",
            "AI\n",
            "DS\n",
            "CY\n"
          ]
        }
      ]
    },
    {
      "cell_type": "markdown",
      "source": [
        "# Using Enumerate function in loops for unpacking their index and elements.\n",
        "\n",
        "- for example if by using normal for loop like - for i in names: print(i),\n",
        "- it will loop over the names like ['c','h','a','r','a','n'].\n",
        "- But by using the enumerate func - for index, element in name:\n",
        "- it will give as [(0,'c'),(1,'h'),...] shows with indexing.so we can access the particular index of the element.\n"
      ],
      "metadata": {
        "id": "oImpNDGHtI9i"
      }
    },
    {
      "cell_type": "code",
      "source": [
        "name = \"charan\"\n",
        "for index, letter in enumerate(name):\n",
        "  print((index, letter), end=\" \")"
      ],
      "metadata": {
        "colab": {
          "base_uri": "https://localhost:8080/"
        },
        "collapsed": true,
        "id": "Frfe0Mw4uZLc",
        "outputId": "e31e8bd0-2d6c-4fc2-8182-6ff520afd483"
      },
      "execution_count": null,
      "outputs": [
        {
          "output_type": "stream",
          "name": "stdout",
          "text": [
            "(0, 'c') (1, 'h') (2, 'a') (3, 'r') (4, 'a') (5, 'n') "
          ]
        }
      ]
    },
    {
      "cell_type": "code",
      "source": [
        "\n",
        "#print the letters as per their repective idex\n",
        "name = \"charan\"\n",
        "for index, letter in enumerate(name):\n",
        "  print(letter*(index+1))"
      ],
      "metadata": {
        "colab": {
          "base_uri": "https://localhost:8080/"
        },
        "collapsed": true,
        "id": "sNql25Qnu_VM",
        "outputId": "890e6bfb-16ed-47ee-84c1-4d1ecde4a95c"
      },
      "execution_count": null,
      "outputs": [
        {
          "output_type": "stream",
          "name": "stdout",
          "text": [
            "c\n",
            "hh\n",
            "aaa\n",
            "rrrr\n",
            "aaaaa\n",
            "nnnnnn\n"
          ]
        }
      ]
    },
    {
      "cell_type": "markdown",
      "source": [
        "# Using else in the for loop;\n",
        "## syntax =\n",
        "    for condition:\n",
        "        - //logic\n",
        "    else:\n",
        "       - //logic\n",
        "## if the loop is executed succesfully the else will print but if we break at any point of the loop it will not print!\n",
        "## mainly used in debugging the programes if it is correctly looping or not.\n",
        "\n",
        "- code within the else block will only execute if the for loop completes all its iterations without encountering a break statement. In this case, since the loop breaks when i is 5, the else block won't be executed."
      ],
      "metadata": {
        "id": "iJc2zf1PwXGZ"
      }
    },
    {
      "cell_type": "code",
      "source": [
        "\n",
        "#version 1\n",
        "\n",
        "for i in range(1,11):\n",
        "\n",
        "  #at first it will check the condition that it is equal to 5 & it won't print 5.\n",
        "  #cauze the condition is before the print statement\n",
        "  if i == 5:\n",
        "    break\n",
        "  print(f\"(version-1 = {i})\", end=' ')\n",
        "  print('')\n",
        "\n",
        "else:\n",
        "  print(\"Each element has been printed - v1\")\n",
        "\n",
        "\n",
        "#version 2\n",
        "for i in range(1,11):\n",
        "\n",
        "  #it prints till 5 first and check the condition that if it is equal to 5 and it breaks.\n",
        "  # the condition is after the print statement. so it prints and check for condition.\n",
        "  print(f\"version-2 = {i}\", end=' ')\n",
        "  if i == 5:\n",
        "    break\n",
        "\n",
        "\n",
        "else:\n",
        "  print(\"Each element has been printed - v2\")"
      ],
      "metadata": {
        "colab": {
          "base_uri": "https://localhost:8080/"
        },
        "collapsed": true,
        "id": "9aGZTfZpxDym",
        "outputId": "db6e7973-f752-4526-9f53-18d735a0c2b2"
      },
      "execution_count": null,
      "outputs": [
        {
          "output_type": "stream",
          "name": "stdout",
          "text": [
            "(version-1 = 1) \n",
            "(version-1 = 2) \n",
            "(version-1 = 3) \n",
            "(version-1 = 4) \n",
            "version-2 = 1 version-2 = 2 version-2 = 3 version-2 = 4 version-2 = 5 "
          ]
        }
      ]
    },
    {
      "cell_type": "markdown",
      "source": [
        "# Looping the dictionaries using .items()"
      ],
      "metadata": {
        "id": "ZP5a3ahr3HSy"
      }
    },
    {
      "cell_type": "code",
      "source": [
        "val = {'name':1, 'charan':36}\n",
        "print(val.items()) #it converts the dict to list and tuples."
      ],
      "metadata": {
        "colab": {
          "base_uri": "https://localhost:8080/"
        },
        "id": "9Q_QUHxx3OaX",
        "outputId": "ba357929-8237-46e0-a888-6387b1cc2800"
      },
      "execution_count": null,
      "outputs": [
        {
          "output_type": "stream",
          "name": "stdout",
          "text": [
            "dict_items([('name', 1), ('charan', 36)])\n"
          ]
        }
      ]
    },
    {
      "cell_type": "code",
      "source": [
        "val = {'name':1, 'charan':36}\n",
        "\n",
        "for key, value in val.items():\n",
        "  print(f\"Key = {key} - values = {value}\") #loop over the each item and prints it"
      ],
      "metadata": {
        "colab": {
          "base_uri": "https://localhost:8080/"
        },
        "collapsed": true,
        "id": "lrPu1sip3sio",
        "outputId": "19c77a87-40b6-4464-a5f0-aa566a5ecb68"
      },
      "execution_count": null,
      "outputs": [
        {
          "output_type": "stream",
          "name": "stdout",
          "text": [
            "Key = name - values = 1\n",
            "Key = charan - values = 36\n"
          ]
        }
      ]
    },
    {
      "cell_type": "markdown",
      "source": [
        "## Nested loops\n",
        "\n",
        " - To print tables from 1 to 10 using nested loop"
      ],
      "metadata": {
        "id": "xYMl7dSo5oZY"
      }
    },
    {
      "cell_type": "code",
      "source": [
        "for i in range(1,11):\n",
        "  for j in range(1,11):\n",
        "    print(f\"{j} * {i} = {i*j}\", end='\\t')\n",
        "    #     j is the iterating num & i is the constant side ways\n",
        "  print()\n",
        "\n"
      ],
      "metadata": {
        "colab": {
          "base_uri": "https://localhost:8080/"
        },
        "id": "Nr4PGAm86ko9",
        "outputId": "6b71176e-e35d-4d55-9427-6f61e8c038d8"
      },
      "execution_count": null,
      "outputs": [
        {
          "output_type": "stream",
          "name": "stdout",
          "text": [
            "1 * 1 = 1\t2 * 1 = 2\t3 * 1 = 3\t4 * 1 = 4\t5 * 1 = 5\t6 * 1 = 6\t7 * 1 = 7\t8 * 1 = 8\t9 * 1 = 9\t10 * 1 = 10\t\n",
            "1 * 2 = 2\t2 * 2 = 4\t3 * 2 = 6\t4 * 2 = 8\t5 * 2 = 10\t6 * 2 = 12\t7 * 2 = 14\t8 * 2 = 16\t9 * 2 = 18\t10 * 2 = 20\t\n",
            "1 * 3 = 3\t2 * 3 = 6\t3 * 3 = 9\t4 * 3 = 12\t5 * 3 = 15\t6 * 3 = 18\t7 * 3 = 21\t8 * 3 = 24\t9 * 3 = 27\t10 * 3 = 30\t\n",
            "1 * 4 = 4\t2 * 4 = 8\t3 * 4 = 12\t4 * 4 = 16\t5 * 4 = 20\t6 * 4 = 24\t7 * 4 = 28\t8 * 4 = 32\t9 * 4 = 36\t10 * 4 = 40\t\n",
            "1 * 5 = 5\t2 * 5 = 10\t3 * 5 = 15\t4 * 5 = 20\t5 * 5 = 25\t6 * 5 = 30\t7 * 5 = 35\t8 * 5 = 40\t9 * 5 = 45\t10 * 5 = 50\t\n",
            "1 * 6 = 6\t2 * 6 = 12\t3 * 6 = 18\t4 * 6 = 24\t5 * 6 = 30\t6 * 6 = 36\t7 * 6 = 42\t8 * 6 = 48\t9 * 6 = 54\t10 * 6 = 60\t\n",
            "1 * 7 = 7\t2 * 7 = 14\t3 * 7 = 21\t4 * 7 = 28\t5 * 7 = 35\t6 * 7 = 42\t7 * 7 = 49\t8 * 7 = 56\t9 * 7 = 63\t10 * 7 = 70\t\n",
            "1 * 8 = 8\t2 * 8 = 16\t3 * 8 = 24\t4 * 8 = 32\t5 * 8 = 40\t6 * 8 = 48\t7 * 8 = 56\t8 * 8 = 64\t9 * 8 = 72\t10 * 8 = 80\t\n",
            "1 * 9 = 9\t2 * 9 = 18\t3 * 9 = 27\t4 * 9 = 36\t5 * 9 = 45\t6 * 9 = 54\t7 * 9 = 63\t8 * 9 = 72\t9 * 9 = 81\t10 * 9 = 90\t\n",
            "1 * 10 = 10\t2 * 10 = 20\t3 * 10 = 30\t4 * 10 = 40\t5 * 10 = 50\t6 * 10 = 60\t7 * 10 = 70\t8 * 10 = 80\t9 * 10 = 90\t10 * 10 = 100\t\n"
          ]
        }
      ]
    }
  ]
}